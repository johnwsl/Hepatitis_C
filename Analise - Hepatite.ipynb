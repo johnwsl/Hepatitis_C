{
 "cells": [
  {
   "cell_type": "markdown",
   "id": "ee141269",
   "metadata": {},
   "source": [
    "# HCV data Data Set\n",
    "\n",
    "**Abstract**:The data set contains laboratory values of blood donors and Hepatitis C patients and demographic values like age.\n",
    "([UCI](https://archive.ics.uci.edu/ml/datasets/HCV+data))\n",
    "\n",
    "##### Source:\n",
    "\n",
    "Creators: Ralf Lichtinghagen, Frank Klawonn, Georg Hoffmann\n",
    "\n",
    "Donor: Ralf Lichtinghagen: Institute of Clinical Chemistry; Medical University Hannover (MHH); Hannover, Germany; lichtinghagen.ralf '@' mh-hannover.de\n",
    "\n",
    "Donor: Frank Klawonn; Helmholtz Centre for Infection Research; Braunschweig, Germany; frank.klawonn '@' helmholtz-hzi.de\n",
    "\n",
    "Donor: Georg Hoffmann; Trillium GmbH; Grafrath, Germany; georg.hoffmann '@' trillium.de\n",
    "\n",
    "\n",
    "\n",
    "##### Data Set Information:\n",
    "\n",
    "The target attribute for classification is Category (blood donors vs. Hepatitis C (including its progress ('just' Hepatitis C, Fibrosis, Cirrhosis).\n",
    "\n",
    "\n",
    "#### Attribute Information:\n",
    "\n",
    "All attributes except Category and Sex are numerical. The laboratory data are the attributes 5-14.\n",
    "1) X (Patient ID/No.)\n",
    "\n",
    "2) Category (diagnosis) (values: '0=Blood Donor', '0s=suspect Blood Donor', '1=Hepatitis', '2=Fibrosis', '3=Cirrhosis')\n",
    "\n",
    "3) Age (in years)\n",
    "\n",
    "4) Sex (f,m)\n",
    "\n",
    "5) ALB\n",
    "\n",
    "6) ALP\n",
    "\n",
    "7) ALT\n",
    "\n",
    "8) AST\n",
    "\n",
    "9) BIL\n",
    "\n",
    "10) CHE\n",
    "\n",
    "11) CHOL\n",
    "\n",
    "12) CREA\n",
    "\n",
    "13) GGT\n",
    "\n",
    "14) PROT\n",
    "\n"
   ]
  },
  {
   "cell_type": "markdown",
   "id": "422758df",
   "metadata": {},
   "source": [
    "### Importando bibliotecas\n"
   ]
  },
  {
   "cell_type": "code",
   "execution_count": 1,
   "id": "72b4bd0a",
   "metadata": {},
   "outputs": [],
   "source": [
    "import pandas as pd\n",
    "import numpy as np\n",
    "import seaborn as sns\n",
    "import matplotlib as mpl\n",
    "import matplotlib.pyplot as plt\n",
    "from pandas_profiling import ProfileReport"
   ]
  },
  {
   "cell_type": "markdown",
   "id": "546a25d8",
   "metadata": {},
   "source": [
    "### Carregando Dados"
   ]
  },
  {
   "cell_type": "code",
   "execution_count": 2,
   "id": "e93c3e88",
   "metadata": {},
   "outputs": [],
   "source": [
    "df_hepatite = pd.read_csv('hcvdat0.csv')"
   ]
  },
  {
   "cell_type": "markdown",
   "id": "e6ffbaba",
   "metadata": {},
   "source": [
    "### Visualizando os Dados"
   ]
  },
  {
   "cell_type": "code",
   "execution_count": 3,
   "id": "ec63b299",
   "metadata": {},
   "outputs": [
    {
     "data": {
      "text/html": [
       "<div>\n",
       "<style scoped>\n",
       "    .dataframe tbody tr th:only-of-type {\n",
       "        vertical-align: middle;\n",
       "    }\n",
       "\n",
       "    .dataframe tbody tr th {\n",
       "        vertical-align: top;\n",
       "    }\n",
       "\n",
       "    .dataframe thead th {\n",
       "        text-align: right;\n",
       "    }\n",
       "</style>\n",
       "<table border=\"1\" class=\"dataframe\">\n",
       "  <thead>\n",
       "    <tr style=\"text-align: right;\">\n",
       "      <th></th>\n",
       "      <th>Unnamed: 0</th>\n",
       "      <th>Category</th>\n",
       "      <th>Age</th>\n",
       "      <th>Sex</th>\n",
       "      <th>ALB</th>\n",
       "      <th>ALP</th>\n",
       "      <th>ALT</th>\n",
       "      <th>AST</th>\n",
       "      <th>BIL</th>\n",
       "      <th>CHE</th>\n",
       "      <th>CHOL</th>\n",
       "      <th>CREA</th>\n",
       "      <th>GGT</th>\n",
       "      <th>PROT</th>\n",
       "    </tr>\n",
       "  </thead>\n",
       "  <tbody>\n",
       "    <tr>\n",
       "      <th>0</th>\n",
       "      <td>1</td>\n",
       "      <td>0=Blood Donor</td>\n",
       "      <td>32</td>\n",
       "      <td>m</td>\n",
       "      <td>38.5</td>\n",
       "      <td>52.5</td>\n",
       "      <td>7.7</td>\n",
       "      <td>22.1</td>\n",
       "      <td>7.5</td>\n",
       "      <td>6.93</td>\n",
       "      <td>3.23</td>\n",
       "      <td>106.0</td>\n",
       "      <td>12.1</td>\n",
       "      <td>69.0</td>\n",
       "    </tr>\n",
       "    <tr>\n",
       "      <th>1</th>\n",
       "      <td>2</td>\n",
       "      <td>0=Blood Donor</td>\n",
       "      <td>32</td>\n",
       "      <td>m</td>\n",
       "      <td>38.5</td>\n",
       "      <td>70.3</td>\n",
       "      <td>18.0</td>\n",
       "      <td>24.7</td>\n",
       "      <td>3.9</td>\n",
       "      <td>11.17</td>\n",
       "      <td>4.80</td>\n",
       "      <td>74.0</td>\n",
       "      <td>15.6</td>\n",
       "      <td>76.5</td>\n",
       "    </tr>\n",
       "    <tr>\n",
       "      <th>2</th>\n",
       "      <td>3</td>\n",
       "      <td>0=Blood Donor</td>\n",
       "      <td>32</td>\n",
       "      <td>m</td>\n",
       "      <td>46.9</td>\n",
       "      <td>74.7</td>\n",
       "      <td>36.2</td>\n",
       "      <td>52.6</td>\n",
       "      <td>6.1</td>\n",
       "      <td>8.84</td>\n",
       "      <td>5.20</td>\n",
       "      <td>86.0</td>\n",
       "      <td>33.2</td>\n",
       "      <td>79.3</td>\n",
       "    </tr>\n",
       "    <tr>\n",
       "      <th>3</th>\n",
       "      <td>4</td>\n",
       "      <td>0=Blood Donor</td>\n",
       "      <td>32</td>\n",
       "      <td>m</td>\n",
       "      <td>43.2</td>\n",
       "      <td>52.0</td>\n",
       "      <td>30.6</td>\n",
       "      <td>22.6</td>\n",
       "      <td>18.9</td>\n",
       "      <td>7.33</td>\n",
       "      <td>4.74</td>\n",
       "      <td>80.0</td>\n",
       "      <td>33.8</td>\n",
       "      <td>75.7</td>\n",
       "    </tr>\n",
       "    <tr>\n",
       "      <th>4</th>\n",
       "      <td>5</td>\n",
       "      <td>0=Blood Donor</td>\n",
       "      <td>32</td>\n",
       "      <td>m</td>\n",
       "      <td>39.2</td>\n",
       "      <td>74.1</td>\n",
       "      <td>32.6</td>\n",
       "      <td>24.8</td>\n",
       "      <td>9.6</td>\n",
       "      <td>9.15</td>\n",
       "      <td>4.32</td>\n",
       "      <td>76.0</td>\n",
       "      <td>29.9</td>\n",
       "      <td>68.7</td>\n",
       "    </tr>\n",
       "  </tbody>\n",
       "</table>\n",
       "</div>"
      ],
      "text/plain": [
       "   Unnamed: 0       Category  Age Sex   ALB   ALP   ALT   AST   BIL    CHE  \\\n",
       "0           1  0=Blood Donor   32   m  38.5  52.5   7.7  22.1   7.5   6.93   \n",
       "1           2  0=Blood Donor   32   m  38.5  70.3  18.0  24.7   3.9  11.17   \n",
       "2           3  0=Blood Donor   32   m  46.9  74.7  36.2  52.6   6.1   8.84   \n",
       "3           4  0=Blood Donor   32   m  43.2  52.0  30.6  22.6  18.9   7.33   \n",
       "4           5  0=Blood Donor   32   m  39.2  74.1  32.6  24.8   9.6   9.15   \n",
       "\n",
       "   CHOL   CREA   GGT  PROT  \n",
       "0  3.23  106.0  12.1  69.0  \n",
       "1  4.80   74.0  15.6  76.5  \n",
       "2  5.20   86.0  33.2  79.3  \n",
       "3  4.74   80.0  33.8  75.7  \n",
       "4  4.32   76.0  29.9  68.7  "
      ]
     },
     "execution_count": 3,
     "metadata": {},
     "output_type": "execute_result"
    }
   ],
   "source": [
    "df_hepatite.head()"
   ]
  },
  {
   "cell_type": "code",
   "execution_count": 4,
   "id": "3ecd4ce6",
   "metadata": {},
   "outputs": [
    {
     "name": "stdout",
     "output_type": "stream",
     "text": [
      "<class 'pandas.core.frame.DataFrame'>\n",
      "RangeIndex: 615 entries, 0 to 614\n",
      "Data columns (total 14 columns):\n",
      " #   Column      Non-Null Count  Dtype  \n",
      "---  ------      --------------  -----  \n",
      " 0   Unnamed: 0  615 non-null    int64  \n",
      " 1   Category    615 non-null    object \n",
      " 2   Age         615 non-null    int64  \n",
      " 3   Sex         615 non-null    object \n",
      " 4   ALB         614 non-null    float64\n",
      " 5   ALP         597 non-null    float64\n",
      " 6   ALT         614 non-null    float64\n",
      " 7   AST         615 non-null    float64\n",
      " 8   BIL         615 non-null    float64\n",
      " 9   CHE         615 non-null    float64\n",
      " 10  CHOL        605 non-null    float64\n",
      " 11  CREA        615 non-null    float64\n",
      " 12  GGT         615 non-null    float64\n",
      " 13  PROT        614 non-null    float64\n",
      "dtypes: float64(10), int64(2), object(2)\n",
      "memory usage: 67.4+ KB\n"
     ]
    }
   ],
   "source": [
    "df_hepatite.info()"
   ]
  },
  {
   "cell_type": "code",
   "execution_count": 5,
   "id": "22981a0e",
   "metadata": {},
   "outputs": [
    {
     "data": {
      "text/plain": [
       "[533, 534, 535, 536, 537, 538, 539]"
      ]
     },
     "execution_count": 5,
     "metadata": {},
     "output_type": "execute_result"
    }
   ],
   "source": [
    "filtro = df_hepatite['Category'] == '0s=suspect Blood Donor'\n",
    "lista = df_hepatite[filtro].index.tolist()\n",
    "lista"
   ]
  },
  {
   "cell_type": "code",
   "execution_count": 6,
   "id": "8d8367f5",
   "metadata": {},
   "outputs": [],
   "source": [
    "df_hepatite.drop(lista, axis=0, inplace=True)"
   ]
  },
  {
   "cell_type": "code",
   "execution_count": 71,
   "id": "2b4a8b07",
   "metadata": {},
   "outputs": [],
   "source": [
    "df_hepatite.reset_index(drop=True, inplace=True)"
   ]
  },
  {
   "cell_type": "code",
   "execution_count": 72,
   "id": "15c27967",
   "metadata": {},
   "outputs": [],
   "source": [
    "df_hepatite.loc[:,[\"Category\"]]=df_hepatite.loc[:,[\"Category\"]].replace(\n",
    "    {'0=Blood Donor': 0,\n",
    "    '1=Hepatitis':1,\n",
    "    '2=Fibrosis':2,\n",
    "    '3=Cirrhosis':3},regex=True)\n",
    "\n",
    "df_hepatite.loc[:,[\"Sex\"]]=df_hepatite.loc[:,[\"Sex\"]].replace(\n",
    "    {'m':0,\n",
    "    'f':1},regex=True)"
   ]
  },
  {
   "cell_type": "code",
   "execution_count": 73,
   "id": "86060b0c",
   "metadata": {
    "scrolled": false
   },
   "outputs": [
    {
     "name": "stdout",
     "output_type": "stream",
     "text": [
      "<class 'pandas.core.frame.DataFrame'>\n",
      "RangeIndex: 608 entries, 0 to 607\n",
      "Data columns (total 13 columns):\n",
      " #   Column    Non-Null Count  Dtype  \n",
      "---  ------    --------------  -----  \n",
      " 0   Category  608 non-null    int64  \n",
      " 1   Age       608 non-null    int64  \n",
      " 2   Sex       608 non-null    int64  \n",
      " 3   ALB       607 non-null    float64\n",
      " 4   ALP       590 non-null    float64\n",
      " 5   ALT       607 non-null    float64\n",
      " 6   AST       608 non-null    float64\n",
      " 7   BIL       608 non-null    float64\n",
      " 8   CHE       608 non-null    float64\n",
      " 9   CHOL      598 non-null    float64\n",
      " 10  CREA      608 non-null    float64\n",
      " 11  GGT       608 non-null    float64\n",
      " 12  PROT      607 non-null    float64\n",
      "dtypes: float64(10), int64(3)\n",
      "memory usage: 61.9 KB\n"
     ]
    }
   ],
   "source": [
    "df_hepatite.info()"
   ]
  },
  {
   "cell_type": "code",
   "execution_count": 17,
   "id": "fa57328b",
   "metadata": {},
   "outputs": [],
   "source": [
    "#df_hepatite.drop('Unnamed: 0', axis=1, inplace=True)"
   ]
  },
  {
   "cell_type": "code",
   "execution_count": 74,
   "id": "81b0fdd4",
   "metadata": {},
   "outputs": [
    {
     "data": {
      "text/html": [
       "<div>\n",
       "<style scoped>\n",
       "    .dataframe tbody tr th:only-of-type {\n",
       "        vertical-align: middle;\n",
       "    }\n",
       "\n",
       "    .dataframe tbody tr th {\n",
       "        vertical-align: top;\n",
       "    }\n",
       "\n",
       "    .dataframe thead th {\n",
       "        text-align: right;\n",
       "    }\n",
       "</style>\n",
       "<table border=\"1\" class=\"dataframe\">\n",
       "  <thead>\n",
       "    <tr style=\"text-align: right;\">\n",
       "      <th></th>\n",
       "      <th>Category</th>\n",
       "      <th>Age</th>\n",
       "      <th>Sex</th>\n",
       "      <th>ALB</th>\n",
       "      <th>ALP</th>\n",
       "      <th>ALT</th>\n",
       "      <th>AST</th>\n",
       "      <th>BIL</th>\n",
       "      <th>CHE</th>\n",
       "      <th>CHOL</th>\n",
       "      <th>CREA</th>\n",
       "      <th>GGT</th>\n",
       "      <th>PROT</th>\n",
       "    </tr>\n",
       "  </thead>\n",
       "  <tbody>\n",
       "    <tr>\n",
       "      <th>count</th>\n",
       "      <td>608.000000</td>\n",
       "      <td>608.000000</td>\n",
       "      <td>608.000000</td>\n",
       "      <td>607.000000</td>\n",
       "      <td>590.000000</td>\n",
       "      <td>607.000000</td>\n",
       "      <td>608.000000</td>\n",
       "      <td>608.000000</td>\n",
       "      <td>608.000000</td>\n",
       "      <td>598.000000</td>\n",
       "      <td>608.000000</td>\n",
       "      <td>608.000000</td>\n",
       "      <td>607.000000</td>\n",
       "    </tr>\n",
       "    <tr>\n",
       "      <th>mean</th>\n",
       "      <td>0.256579</td>\n",
       "      <td>47.291118</td>\n",
       "      <td>0.389803</td>\n",
       "      <td>41.818781</td>\n",
       "      <td>67.821017</td>\n",
       "      <td>27.601318</td>\n",
       "      <td>34.369408</td>\n",
       "      <td>11.474013</td>\n",
       "      <td>8.204885</td>\n",
       "      <td>5.378829</td>\n",
       "      <td>81.513158</td>\n",
       "      <td>38.243914</td>\n",
       "      <td>72.253213</td>\n",
       "    </tr>\n",
       "    <tr>\n",
       "      <th>std</th>\n",
       "      <td>0.746186</td>\n",
       "      <td>9.992705</td>\n",
       "      <td>0.488107</td>\n",
       "      <td>5.406717</td>\n",
       "      <td>25.274423</td>\n",
       "      <td>21.227539</td>\n",
       "      <td>32.622442</td>\n",
       "      <td>19.770558</td>\n",
       "      <td>2.168400</td>\n",
       "      <td>1.119394</td>\n",
       "      <td>49.720652</td>\n",
       "      <td>51.953220</td>\n",
       "      <td>4.932252</td>\n",
       "    </tr>\n",
       "    <tr>\n",
       "      <th>min</th>\n",
       "      <td>0.000000</td>\n",
       "      <td>19.000000</td>\n",
       "      <td>0.000000</td>\n",
       "      <td>20.000000</td>\n",
       "      <td>11.300000</td>\n",
       "      <td>0.900000</td>\n",
       "      <td>12.000000</td>\n",
       "      <td>1.800000</td>\n",
       "      <td>1.420000</td>\n",
       "      <td>1.430000</td>\n",
       "      <td>8.000000</td>\n",
       "      <td>4.500000</td>\n",
       "      <td>51.000000</td>\n",
       "    </tr>\n",
       "    <tr>\n",
       "      <th>25%</th>\n",
       "      <td>0.000000</td>\n",
       "      <td>39.000000</td>\n",
       "      <td>0.000000</td>\n",
       "      <td>39.000000</td>\n",
       "      <td>52.500000</td>\n",
       "      <td>16.400000</td>\n",
       "      <td>21.600000</td>\n",
       "      <td>5.300000</td>\n",
       "      <td>6.950000</td>\n",
       "      <td>4.620000</td>\n",
       "      <td>68.000000</td>\n",
       "      <td>15.700000</td>\n",
       "      <td>69.450000</td>\n",
       "    </tr>\n",
       "    <tr>\n",
       "      <th>50%</th>\n",
       "      <td>0.000000</td>\n",
       "      <td>47.000000</td>\n",
       "      <td>0.000000</td>\n",
       "      <td>42.000000</td>\n",
       "      <td>66.000000</td>\n",
       "      <td>23.000000</td>\n",
       "      <td>25.850000</td>\n",
       "      <td>7.300000</td>\n",
       "      <td>8.270000</td>\n",
       "      <td>5.300000</td>\n",
       "      <td>77.000000</td>\n",
       "      <td>23.250000</td>\n",
       "      <td>72.200000</td>\n",
       "    </tr>\n",
       "    <tr>\n",
       "      <th>75%</th>\n",
       "      <td>0.000000</td>\n",
       "      <td>54.000000</td>\n",
       "      <td>1.000000</td>\n",
       "      <td>45.250000</td>\n",
       "      <td>79.525000</td>\n",
       "      <td>32.750000</td>\n",
       "      <td>32.800000</td>\n",
       "      <td>11.300000</td>\n",
       "      <td>9.585000</td>\n",
       "      <td>6.075000</td>\n",
       "      <td>88.000000</td>\n",
       "      <td>39.200000</td>\n",
       "      <td>75.400000</td>\n",
       "    </tr>\n",
       "    <tr>\n",
       "      <th>max</th>\n",
       "      <td>3.000000</td>\n",
       "      <td>77.000000</td>\n",
       "      <td>1.000000</td>\n",
       "      <td>82.200000</td>\n",
       "      <td>416.600000</td>\n",
       "      <td>258.000000</td>\n",
       "      <td>324.000000</td>\n",
       "      <td>254.000000</td>\n",
       "      <td>16.410000</td>\n",
       "      <td>9.670000</td>\n",
       "      <td>1079.100000</td>\n",
       "      <td>650.900000</td>\n",
       "      <td>90.000000</td>\n",
       "    </tr>\n",
       "  </tbody>\n",
       "</table>\n",
       "</div>"
      ],
      "text/plain": [
       "         Category         Age         Sex         ALB         ALP         ALT  \\\n",
       "count  608.000000  608.000000  608.000000  607.000000  590.000000  607.000000   \n",
       "mean     0.256579   47.291118    0.389803   41.818781   67.821017   27.601318   \n",
       "std      0.746186    9.992705    0.488107    5.406717   25.274423   21.227539   \n",
       "min      0.000000   19.000000    0.000000   20.000000   11.300000    0.900000   \n",
       "25%      0.000000   39.000000    0.000000   39.000000   52.500000   16.400000   \n",
       "50%      0.000000   47.000000    0.000000   42.000000   66.000000   23.000000   \n",
       "75%      0.000000   54.000000    1.000000   45.250000   79.525000   32.750000   \n",
       "max      3.000000   77.000000    1.000000   82.200000  416.600000  258.000000   \n",
       "\n",
       "              AST         BIL         CHE        CHOL         CREA  \\\n",
       "count  608.000000  608.000000  608.000000  598.000000   608.000000   \n",
       "mean    34.369408   11.474013    8.204885    5.378829    81.513158   \n",
       "std     32.622442   19.770558    2.168400    1.119394    49.720652   \n",
       "min     12.000000    1.800000    1.420000    1.430000     8.000000   \n",
       "25%     21.600000    5.300000    6.950000    4.620000    68.000000   \n",
       "50%     25.850000    7.300000    8.270000    5.300000    77.000000   \n",
       "75%     32.800000   11.300000    9.585000    6.075000    88.000000   \n",
       "max    324.000000  254.000000   16.410000    9.670000  1079.100000   \n",
       "\n",
       "              GGT        PROT  \n",
       "count  608.000000  607.000000  \n",
       "mean    38.243914   72.253213  \n",
       "std     51.953220    4.932252  \n",
       "min      4.500000   51.000000  \n",
       "25%     15.700000   69.450000  \n",
       "50%     23.250000   72.200000  \n",
       "75%     39.200000   75.400000  \n",
       "max    650.900000   90.000000  "
      ]
     },
     "execution_count": 74,
     "metadata": {},
     "output_type": "execute_result"
    }
   ],
   "source": [
    "df_hepatite.describe()"
   ]
  },
  {
   "cell_type": "code",
   "execution_count": 75,
   "id": "718f76c5",
   "metadata": {},
   "outputs": [
    {
     "data": {
      "text/html": [
       "<div>\n",
       "<style scoped>\n",
       "    .dataframe tbody tr th:only-of-type {\n",
       "        vertical-align: middle;\n",
       "    }\n",
       "\n",
       "    .dataframe tbody tr th {\n",
       "        vertical-align: top;\n",
       "    }\n",
       "\n",
       "    .dataframe thead th {\n",
       "        text-align: right;\n",
       "    }\n",
       "</style>\n",
       "<table border=\"1\" class=\"dataframe\">\n",
       "  <thead>\n",
       "    <tr style=\"text-align: right;\">\n",
       "      <th></th>\n",
       "      <th>Category</th>\n",
       "      <th>Age</th>\n",
       "      <th>Sex</th>\n",
       "      <th>ALB</th>\n",
       "      <th>ALP</th>\n",
       "      <th>ALT</th>\n",
       "      <th>AST</th>\n",
       "      <th>BIL</th>\n",
       "      <th>CHE</th>\n",
       "      <th>CHOL</th>\n",
       "      <th>CREA</th>\n",
       "      <th>GGT</th>\n",
       "      <th>PROT</th>\n",
       "    </tr>\n",
       "  </thead>\n",
       "  <tbody>\n",
       "    <tr>\n",
       "      <th>0</th>\n",
       "      <td>0</td>\n",
       "      <td>32</td>\n",
       "      <td>0</td>\n",
       "      <td>38.5</td>\n",
       "      <td>52.5</td>\n",
       "      <td>7.7</td>\n",
       "      <td>22.1</td>\n",
       "      <td>7.5</td>\n",
       "      <td>6.93</td>\n",
       "      <td>3.23</td>\n",
       "      <td>106.0</td>\n",
       "      <td>12.1</td>\n",
       "      <td>69.0</td>\n",
       "    </tr>\n",
       "    <tr>\n",
       "      <th>1</th>\n",
       "      <td>0</td>\n",
       "      <td>32</td>\n",
       "      <td>0</td>\n",
       "      <td>38.5</td>\n",
       "      <td>70.3</td>\n",
       "      <td>18.0</td>\n",
       "      <td>24.7</td>\n",
       "      <td>3.9</td>\n",
       "      <td>11.17</td>\n",
       "      <td>4.80</td>\n",
       "      <td>74.0</td>\n",
       "      <td>15.6</td>\n",
       "      <td>76.5</td>\n",
       "    </tr>\n",
       "    <tr>\n",
       "      <th>2</th>\n",
       "      <td>0</td>\n",
       "      <td>32</td>\n",
       "      <td>0</td>\n",
       "      <td>46.9</td>\n",
       "      <td>74.7</td>\n",
       "      <td>36.2</td>\n",
       "      <td>52.6</td>\n",
       "      <td>6.1</td>\n",
       "      <td>8.84</td>\n",
       "      <td>5.20</td>\n",
       "      <td>86.0</td>\n",
       "      <td>33.2</td>\n",
       "      <td>79.3</td>\n",
       "    </tr>\n",
       "    <tr>\n",
       "      <th>3</th>\n",
       "      <td>0</td>\n",
       "      <td>32</td>\n",
       "      <td>0</td>\n",
       "      <td>43.2</td>\n",
       "      <td>52.0</td>\n",
       "      <td>30.6</td>\n",
       "      <td>22.6</td>\n",
       "      <td>18.9</td>\n",
       "      <td>7.33</td>\n",
       "      <td>4.74</td>\n",
       "      <td>80.0</td>\n",
       "      <td>33.8</td>\n",
       "      <td>75.7</td>\n",
       "    </tr>\n",
       "    <tr>\n",
       "      <th>4</th>\n",
       "      <td>0</td>\n",
       "      <td>32</td>\n",
       "      <td>0</td>\n",
       "      <td>39.2</td>\n",
       "      <td>74.1</td>\n",
       "      <td>32.6</td>\n",
       "      <td>24.8</td>\n",
       "      <td>9.6</td>\n",
       "      <td>9.15</td>\n",
       "      <td>4.32</td>\n",
       "      <td>76.0</td>\n",
       "      <td>29.9</td>\n",
       "      <td>68.7</td>\n",
       "    </tr>\n",
       "  </tbody>\n",
       "</table>\n",
       "</div>"
      ],
      "text/plain": [
       "   Category  Age  Sex   ALB   ALP   ALT   AST   BIL    CHE  CHOL   CREA   GGT  \\\n",
       "0         0   32    0  38.5  52.5   7.7  22.1   7.5   6.93  3.23  106.0  12.1   \n",
       "1         0   32    0  38.5  70.3  18.0  24.7   3.9  11.17  4.80   74.0  15.6   \n",
       "2         0   32    0  46.9  74.7  36.2  52.6   6.1   8.84  5.20   86.0  33.2   \n",
       "3         0   32    0  43.2  52.0  30.6  22.6  18.9   7.33  4.74   80.0  33.8   \n",
       "4         0   32    0  39.2  74.1  32.6  24.8   9.6   9.15  4.32   76.0  29.9   \n",
       "\n",
       "   PROT  \n",
       "0  69.0  \n",
       "1  76.5  \n",
       "2  79.3  \n",
       "3  75.7  \n",
       "4  68.7  "
      ]
     },
     "execution_count": 75,
     "metadata": {},
     "output_type": "execute_result"
    }
   ],
   "source": [
    "df_hepatite.head()"
   ]
  },
  {
   "cell_type": "code",
   "execution_count": 76,
   "id": "d155233c",
   "metadata": {},
   "outputs": [
    {
     "data": {
      "text/plain": [
       "Category\n",
       "0           533\n",
       "3            30\n",
       "1            24\n",
       "2            21\n",
       "dtype: int64"
      ]
     },
     "execution_count": 76,
     "metadata": {},
     "output_type": "execute_result"
    }
   ],
   "source": [
    "df_hepatite[['Category']].value_counts()"
   ]
  },
  {
   "cell_type": "markdown",
   "id": "ef655c61",
   "metadata": {},
   "source": [
    "### Profile Report"
   ]
  },
  {
   "cell_type": "code",
   "execution_count": 11,
   "id": "c3b8cd8e",
   "metadata": {},
   "outputs": [
    {
     "data": {
      "application/vnd.jupyter.widget-view+json": {
       "model_id": "507ab312db8141a9aac7db29cb150587",
       "version_major": 2,
       "version_minor": 0
      },
      "text/plain": [
       "Summarize dataset:   0%|          | 0/5 [00:00<?, ?it/s]"
      ]
     },
     "metadata": {},
     "output_type": "display_data"
    },
    {
     "data": {
      "application/vnd.jupyter.widget-view+json": {
       "model_id": "fdcb240c514e4f989b3a585736f8387b",
       "version_major": 2,
       "version_minor": 0
      },
      "text/plain": [
       "Generate report structure:   0%|          | 0/1 [00:00<?, ?it/s]"
      ]
     },
     "metadata": {},
     "output_type": "display_data"
    },
    {
     "data": {
      "application/vnd.jupyter.widget-view+json": {
       "model_id": "38d17068c7f045e4bbc0af2b43ee7cc6",
       "version_major": 2,
       "version_minor": 0
      },
      "text/plain": [
       "Render HTML:   0%|          | 0/1 [00:00<?, ?it/s]"
      ]
     },
     "metadata": {},
     "output_type": "display_data"
    },
    {
     "data": {
      "application/vnd.jupyter.widget-view+json": {
       "model_id": "a90f394451804947ae02272c4d72c5d9",
       "version_major": 2,
       "version_minor": 0
      },
      "text/plain": [
       "Export report to file:   0%|          | 0/1 [00:00<?, ?it/s]"
      ]
     },
     "metadata": {},
     "output_type": "display_data"
    }
   ],
   "source": [
    "profile = ProfileReport(df_hepatite, title=\"Hepatitis C Profile Report\")\n",
    "profile.to_file('hepatitis_report_2.html')"
   ]
  },
  {
   "cell_type": "markdown",
   "id": "5c3150fa",
   "metadata": {},
   "source": [
    "### Analisando Histograma dos Dados"
   ]
  },
  {
   "cell_type": "code",
   "execution_count": 11,
   "id": "5de0602e",
   "metadata": {},
   "outputs": [],
   "source": [
    "%matplotlib inline"
   ]
  },
  {
   "cell_type": "code",
   "execution_count": 12,
   "id": "c4c4fc09",
   "metadata": {},
   "outputs": [
    {
     "data": {
      "image/png": "[encoded data removed]",
      "text/plain": [
       "<Figure size 1440x1224 with 16 Axes>"
      ]
     },
     "metadata": {
      "needs_background": "light"
     },
     "output_type": "display_data"
    }
   ],
   "source": [
    "df_hepatite.hist(bins=30, figsize=(20,17))\n",
    "plt.show()"
   ]
  },
  {
   "cell_type": "code",
   "execution_count": 13,
   "id": "7ae50941",
   "metadata": {},
   "outputs": [
    {
     "data": {
      "text/html": [
       "<div>\n",
       "<style scoped>\n",
       "    .dataframe tbody tr th:only-of-type {\n",
       "        vertical-align: middle;\n",
       "    }\n",
       "\n",
       "    .dataframe tbody tr th {\n",
       "        vertical-align: top;\n",
       "    }\n",
       "\n",
       "    .dataframe thead th {\n",
       "        text-align: right;\n",
       "    }\n",
       "</style>\n",
       "<table border=\"1\" class=\"dataframe\">\n",
       "  <thead>\n",
       "    <tr style=\"text-align: right;\">\n",
       "      <th></th>\n",
       "      <th>Category</th>\n",
       "      <th>Age</th>\n",
       "      <th>Sex</th>\n",
       "      <th>ALB</th>\n",
       "      <th>ALP</th>\n",
       "      <th>ALT</th>\n",
       "      <th>AST</th>\n",
       "      <th>BIL</th>\n",
       "      <th>CHE</th>\n",
       "      <th>CHOL</th>\n",
       "      <th>CREA</th>\n",
       "      <th>GGT</th>\n",
       "      <th>PROT</th>\n",
       "    </tr>\n",
       "  </thead>\n",
       "  <tbody>\n",
       "    <tr>\n",
       "      <th>Category</th>\n",
       "      <td>1.000000</td>\n",
       "      <td>0.106341</td>\n",
       "      <td>-0.060657</td>\n",
       "      <td>-0.288252</td>\n",
       "      <td>0.032323</td>\n",
       "      <td>0.106574</td>\n",
       "      <td>0.648341</td>\n",
       "      <td>0.473006</td>\n",
       "      <td>-0.329472</td>\n",
       "      <td>-0.308071</td>\n",
       "      <td>0.182040</td>\n",
       "      <td>0.471164</td>\n",
       "      <td>0.007230</td>\n",
       "    </tr>\n",
       "    <tr>\n",
       "      <th>Age</th>\n",
       "      <td>0.106341</td>\n",
       "      <td>1.000000</td>\n",
       "      <td>0.024544</td>\n",
       "      <td>-0.197498</td>\n",
       "      <td>0.173340</td>\n",
       "      <td>-0.006021</td>\n",
       "      <td>0.088666</td>\n",
       "      <td>0.032492</td>\n",
       "      <td>-0.075093</td>\n",
       "      <td>0.125641</td>\n",
       "      <td>-0.022296</td>\n",
       "      <td>0.153087</td>\n",
       "      <td>-0.153668</td>\n",
       "    </tr>\n",
       "    <tr>\n",
       "      <th>Sex</th>\n",
       "      <td>-0.060657</td>\n",
       "      <td>0.024544</td>\n",
       "      <td>1.000000</td>\n",
       "      <td>-0.146140</td>\n",
       "      <td>0.019825</td>\n",
       "      <td>-0.161868</td>\n",
       "      <td>-0.130891</td>\n",
       "      <td>-0.111177</td>\n",
       "      <td>-0.169111</td>\n",
       "      <td>0.030208</td>\n",
       "      <td>-0.159589</td>\n",
       "      <td>-0.133276</td>\n",
       "      <td>-0.051277</td>\n",
       "    </tr>\n",
       "    <tr>\n",
       "      <th>ALB</th>\n",
       "      <td>-0.288252</td>\n",
       "      <td>-0.197498</td>\n",
       "      <td>-0.146140</td>\n",
       "      <td>1.000000</td>\n",
       "      <td>-0.141584</td>\n",
       "      <td>0.001606</td>\n",
       "      <td>-0.193450</td>\n",
       "      <td>-0.221651</td>\n",
       "      <td>0.375878</td>\n",
       "      <td>0.208248</td>\n",
       "      <td>-0.001573</td>\n",
       "      <td>-0.155749</td>\n",
       "      <td>0.557197</td>\n",
       "    </tr>\n",
       "    <tr>\n",
       "      <th>ALP</th>\n",
       "      <td>0.032323</td>\n",
       "      <td>0.173340</td>\n",
       "      <td>0.019825</td>\n",
       "      <td>-0.141584</td>\n",
       "      <td>1.000000</td>\n",
       "      <td>0.214480</td>\n",
       "      <td>0.063948</td>\n",
       "      <td>0.056078</td>\n",
       "      <td>0.033753</td>\n",
       "      <td>0.125429</td>\n",
       "      <td>0.149832</td>\n",
       "      <td>0.454630</td>\n",
       "      <td>-0.055109</td>\n",
       "    </tr>\n",
       "    <tr>\n",
       "      <th>ALT</th>\n",
       "      <td>0.106574</td>\n",
       "      <td>-0.006021</td>\n",
       "      <td>-0.161868</td>\n",
       "      <td>0.001606</td>\n",
       "      <td>0.214480</td>\n",
       "      <td>1.000000</td>\n",
       "      <td>0.273326</td>\n",
       "      <td>-0.038469</td>\n",
       "      <td>0.147000</td>\n",
       "      <td>0.068947</td>\n",
       "      <td>-0.043025</td>\n",
       "      <td>0.248114</td>\n",
       "      <td>0.094730</td>\n",
       "    </tr>\n",
       "    <tr>\n",
       "      <th>AST</th>\n",
       "      <td>0.648341</td>\n",
       "      <td>0.088666</td>\n",
       "      <td>-0.130891</td>\n",
       "      <td>-0.193450</td>\n",
       "      <td>0.063948</td>\n",
       "      <td>0.273326</td>\n",
       "      <td>1.000000</td>\n",
       "      <td>0.312231</td>\n",
       "      <td>-0.208536</td>\n",
       "      <td>-0.209970</td>\n",
       "      <td>-0.021387</td>\n",
       "      <td>0.491263</td>\n",
       "      <td>0.040071</td>\n",
       "    </tr>\n",
       "    <tr>\n",
       "      <th>BIL</th>\n",
       "      <td>0.473006</td>\n",
       "      <td>0.032492</td>\n",
       "      <td>-0.111177</td>\n",
       "      <td>-0.221651</td>\n",
       "      <td>0.056078</td>\n",
       "      <td>-0.038469</td>\n",
       "      <td>0.312231</td>\n",
       "      <td>1.000000</td>\n",
       "      <td>-0.333172</td>\n",
       "      <td>-0.180370</td>\n",
       "      <td>0.031224</td>\n",
       "      <td>0.217024</td>\n",
       "      <td>-0.047638</td>\n",
       "    </tr>\n",
       "    <tr>\n",
       "      <th>CHE</th>\n",
       "      <td>-0.329472</td>\n",
       "      <td>-0.075093</td>\n",
       "      <td>-0.169111</td>\n",
       "      <td>0.375878</td>\n",
       "      <td>0.033753</td>\n",
       "      <td>0.147000</td>\n",
       "      <td>-0.208536</td>\n",
       "      <td>-0.333172</td>\n",
       "      <td>1.000000</td>\n",
       "      <td>0.425456</td>\n",
       "      <td>-0.011157</td>\n",
       "      <td>-0.110345</td>\n",
       "      <td>0.295427</td>\n",
       "    </tr>\n",
       "    <tr>\n",
       "      <th>CHOL</th>\n",
       "      <td>-0.308071</td>\n",
       "      <td>0.125641</td>\n",
       "      <td>0.030208</td>\n",
       "      <td>0.208248</td>\n",
       "      <td>0.125429</td>\n",
       "      <td>0.068947</td>\n",
       "      <td>-0.209970</td>\n",
       "      <td>-0.180370</td>\n",
       "      <td>0.425456</td>\n",
       "      <td>1.000000</td>\n",
       "      <td>-0.047744</td>\n",
       "      <td>-0.006895</td>\n",
       "      <td>0.207071</td>\n",
       "    </tr>\n",
       "    <tr>\n",
       "      <th>CREA</th>\n",
       "      <td>0.182040</td>\n",
       "      <td>-0.022296</td>\n",
       "      <td>-0.159589</td>\n",
       "      <td>-0.001573</td>\n",
       "      <td>0.149832</td>\n",
       "      <td>-0.043025</td>\n",
       "      <td>-0.021387</td>\n",
       "      <td>0.031224</td>\n",
       "      <td>-0.011157</td>\n",
       "      <td>-0.047744</td>\n",
       "      <td>1.000000</td>\n",
       "      <td>0.121003</td>\n",
       "      <td>-0.031704</td>\n",
       "    </tr>\n",
       "    <tr>\n",
       "      <th>GGT</th>\n",
       "      <td>0.471164</td>\n",
       "      <td>0.153087</td>\n",
       "      <td>-0.133276</td>\n",
       "      <td>-0.155749</td>\n",
       "      <td>0.454630</td>\n",
       "      <td>0.248114</td>\n",
       "      <td>0.491263</td>\n",
       "      <td>0.217024</td>\n",
       "      <td>-0.110345</td>\n",
       "      <td>-0.006895</td>\n",
       "      <td>0.121003</td>\n",
       "      <td>1.000000</td>\n",
       "      <td>-0.011767</td>\n",
       "    </tr>\n",
       "    <tr>\n",
       "      <th>PROT</th>\n",
       "      <td>0.007230</td>\n",
       "      <td>-0.153668</td>\n",
       "      <td>-0.051277</td>\n",
       "      <td>0.557197</td>\n",
       "      <td>-0.055109</td>\n",
       "      <td>0.094730</td>\n",
       "      <td>0.040071</td>\n",
       "      <td>-0.047638</td>\n",
       "      <td>0.295427</td>\n",
       "      <td>0.207071</td>\n",
       "      <td>-0.031704</td>\n",
       "      <td>-0.011767</td>\n",
       "      <td>1.000000</td>\n",
       "    </tr>\n",
       "  </tbody>\n",
       "</table>\n",
       "</div>"
      ],
      "text/plain": [
       "          Category       Age       Sex       ALB       ALP       ALT  \\\n",
       "Category  1.000000  0.106341 -0.060657 -0.288252  0.032323  0.106574   \n",
       "Age       0.106341  1.000000  0.024544 -0.197498  0.173340 -0.006021   \n",
       "Sex      -0.060657  0.024544  1.000000 -0.146140  0.019825 -0.161868   \n",
       "ALB      -0.288252 -0.197498 -0.146140  1.000000 -0.141584  0.001606   \n",
       "ALP       0.032323  0.173340  0.019825 -0.141584  1.000000  0.214480   \n",
       "ALT       0.106574 -0.006021 -0.161868  0.001606  0.214480  1.000000   \n",
       "AST       0.648341  0.088666 -0.130891 -0.193450  0.063948  0.273326   \n",
       "BIL       0.473006  0.032492 -0.111177 -0.221651  0.056078 -0.038469   \n",
       "CHE      -0.329472 -0.075093 -0.169111  0.375878  0.033753  0.147000   \n",
       "CHOL     -0.308071  0.125641  0.030208  0.208248  0.125429  0.068947   \n",
       "CREA      0.182040 -0.022296 -0.159589 -0.001573  0.149832 -0.043025   \n",
       "GGT       0.471164  0.153087 -0.133276 -0.155749  0.454630  0.248114   \n",
       "PROT      0.007230 -0.153668 -0.051277  0.557197 -0.055109  0.094730   \n",
       "\n",
       "               AST       BIL       CHE      CHOL      CREA       GGT      PROT  \n",
       "Category  0.648341  0.473006 -0.329472 -0.308071  0.182040  0.471164  0.007230  \n",
       "Age       0.088666  0.032492 -0.075093  0.125641 -0.022296  0.153087 -0.153668  \n",
       "Sex      -0.130891 -0.111177 -0.169111  0.030208 -0.159589 -0.133276 -0.051277  \n",
       "ALB      -0.193450 -0.221651  0.375878  0.208248 -0.001573 -0.155749  0.557197  \n",
       "ALP       0.063948  0.056078  0.033753  0.125429  0.149832  0.454630 -0.055109  \n",
       "ALT       0.273326 -0.038469  0.147000  0.068947 -0.043025  0.248114  0.094730  \n",
       "AST       1.000000  0.312231 -0.208536 -0.209970 -0.021387  0.491263  0.040071  \n",
       "BIL       0.312231  1.000000 -0.333172 -0.180370  0.031224  0.217024 -0.047638  \n",
       "CHE      -0.208536 -0.333172  1.000000  0.425456 -0.011157 -0.110345  0.295427  \n",
       "CHOL     -0.209970 -0.180370  0.425456  1.000000 -0.047744 -0.006895  0.207071  \n",
       "CREA     -0.021387  0.031224 -0.011157 -0.047744  1.000000  0.121003 -0.031704  \n",
       "GGT       0.491263  0.217024 -0.110345 -0.006895  0.121003  1.000000 -0.011767  \n",
       "PROT      0.040071 -0.047638  0.295427  0.207071 -0.031704 -0.011767  1.000000  "
      ]
     },
     "execution_count": 13,
     "metadata": {},
     "output_type": "execute_result"
    }
   ],
   "source": [
    "#correlações maiores que 0.1 ou diferetes de 1\n",
    "corr_df = df_hepatite.corr()\n",
    "corr_df"
   ]
  },
  {
   "cell_type": "code",
   "execution_count": 77,
   "id": "aca92a5b",
   "metadata": {},
   "outputs": [],
   "source": [
    "#cópia do dataset\n",
    "df = df_hepatite.copy()"
   ]
  },
  {
   "cell_type": "code",
   "execution_count": 78,
   "id": "94b03012",
   "metadata": {},
   "outputs": [
    {
     "data": {
      "text/plain": [
       "Category     0\n",
       "Age          0\n",
       "Sex          0\n",
       "ALB          1\n",
       "ALP         18\n",
       "ALT          1\n",
       "AST          0\n",
       "BIL          0\n",
       "CHE          0\n",
       "CHOL        10\n",
       "CREA         0\n",
       "GGT          0\n",
       "PROT         1\n",
       "dtype: int64"
      ]
     },
     "execution_count": 78,
     "metadata": {},
     "output_type": "execute_result"
    }
   ],
   "source": [
    "df.isna().sum()"
   ]
  },
  {
   "cell_type": "markdown",
   "id": "920e6d6b",
   "metadata": {},
   "source": [
    "### Seperação da váriável target do dataset"
   ]
  },
  {
   "cell_type": "code",
   "execution_count": 79,
   "id": "7fcf932f",
   "metadata": {},
   "outputs": [],
   "source": [
    "X = df.drop('Category', axis=1)\n",
    "y = df['Category']"
   ]
  },
  {
   "cell_type": "code",
   "execution_count": 80,
   "id": "5fca0a6c",
   "metadata": {},
   "outputs": [
    {
     "data": {
      "text/plain": [
       "(608, 12)"
      ]
     },
     "execution_count": 80,
     "metadata": {},
     "output_type": "execute_result"
    }
   ],
   "source": [
    "X.shape"
   ]
  },
  {
   "cell_type": "code",
   "execution_count": 81,
   "id": "4d6bb319",
   "metadata": {},
   "outputs": [
    {
     "data": {
      "text/plain": [
       "(608,)"
      ]
     },
     "execution_count": 81,
     "metadata": {},
     "output_type": "execute_result"
    }
   ],
   "source": [
    "y.shape"
   ]
  },
  {
   "cell_type": "markdown",
   "id": "ec2668f1",
   "metadata": {},
   "source": [
    "## Pipeline dos Dados"
   ]
  },
  {
   "cell_type": "code",
   "execution_count": 82,
   "id": "fcae8aa6",
   "metadata": {},
   "outputs": [],
   "source": [
    "from sklearn.pipeline import Pipeline\n",
    "from sklearn.impute import SimpleImputer\n",
    "from sklearn.preprocessing import StandardScaler\n",
    "from sklearn.compose import ColumnTransformer\n",
    "from sklearn.preprocessing import OneHotEncoder"
   ]
  },
  {
   "cell_type": "code",
   "execution_count": 83,
   "id": "daa6c873",
   "metadata": {},
   "outputs": [],
   "source": [
    "num_pipeline = Pipeline([\n",
    "        ('imputer', SimpleImputer(strategy=\"median\")),\n",
    "        ('std_scaler', StandardScaler())])"
   ]
  },
  {
   "cell_type": "code",
   "execution_count": 84,
   "id": "9d594977",
   "metadata": {},
   "outputs": [],
   "source": [
    "#X_train_num_tr = num_pipeline.fit_transform(X_train_num)"
   ]
  },
  {
   "cell_type": "markdown",
   "id": "82d885dc",
   "metadata": {},
   "source": [
    "**Categoricos**"
   ]
  },
  {
   "cell_type": "code",
   "execution_count": 85,
   "id": "21dc193a",
   "metadata": {},
   "outputs": [],
   "source": [
    "# lista com os atributos categóricos\n",
    "atributos_cat = ['Sex']\n",
    "# lista com os atributos númericos\n",
    "atributos_num = list(X.drop(atributos_cat, axis=1))"
   ]
  },
  {
   "cell_type": "code",
   "execution_count": 86,
   "id": "abed0f38",
   "metadata": {},
   "outputs": [],
   "source": [
    "## Criando pipeline para atributos categoricos\n",
    "full_pipeline = ColumnTransformer([\n",
    "        (\"num\", num_pipeline, atributos_num),\n",
    "        (\"cat\", OneHotEncoder(), atributos_cat),\n",
    "    ])\n",
    "\n",
    "X_pipe = full_pipeline.fit_transform(X)"
   ]
  },
  {
   "cell_type": "code",
   "execution_count": 87,
   "id": "6591f432",
   "metadata": {},
   "outputs": [
    {
     "data": {
      "text/plain": [
       "(608, 13)"
      ]
     },
     "execution_count": 87,
     "metadata": {},
     "output_type": "execute_result"
    }
   ],
   "source": [
    "X_pipe.shape"
   ]
  },
  {
   "cell_type": "code",
   "execution_count": 88,
   "id": "70875b70",
   "metadata": {},
   "outputs": [
    {
     "data": {
      "text/plain": [
       "(608,)"
      ]
     },
     "execution_count": 88,
     "metadata": {},
     "output_type": "execute_result"
    }
   ],
   "source": [
    "y.shape"
   ]
  },
  {
   "cell_type": "code",
   "execution_count": 89,
   "id": "0632e975",
   "metadata": {},
   "outputs": [
    {
     "data": {
      "text/plain": [
       "['Age',\n",
       " 'Sex',\n",
       " 'ALB',\n",
       " 'ALP',\n",
       " 'ALT',\n",
       " 'AST',\n",
       " 'BIL',\n",
       " 'CHE',\n",
       " 'CHOL',\n",
       " 'CREA',\n",
       " 'GGT',\n",
       " 'PROT',\n",
       " 'M',\n",
       " 'F']"
      ]
     },
     "execution_count": 89,
     "metadata": {},
     "output_type": "execute_result"
    }
   ],
   "source": [
    "name_col = list(df.columns)\n",
    "name_col = name_col[1:]\n",
    "name_col.append('M')\n",
    "name_col.append('F')\n",
    "name_col"
   ]
  },
  {
   "cell_type": "code",
   "execution_count": 90,
   "id": "2ce580b4",
   "metadata": {},
   "outputs": [],
   "source": [
    "X = pd.DataFrame(X_pipe)"
   ]
  },
  {
   "cell_type": "code",
   "execution_count": 91,
   "id": "ced2bda4",
   "metadata": {},
   "outputs": [
    {
     "data": {
      "text/plain": [
       "0     0\n",
       "1     0\n",
       "2     0\n",
       "3     0\n",
       "4     0\n",
       "5     0\n",
       "6     0\n",
       "7     0\n",
       "8     0\n",
       "9     0\n",
       "10    0\n",
       "11    0\n",
       "12    0\n",
       "dtype: int64"
      ]
     },
     "execution_count": 91,
     "metadata": {},
     "output_type": "execute_result"
    }
   ],
   "source": [
    "X.isnull().sum()"
   ]
  },
  {
   "cell_type": "code",
   "execution_count": 92,
   "id": "21b938c8",
   "metadata": {},
   "outputs": [],
   "source": [
    "X.rename(columns={0: \"Age\", 1: 'ALB', 2: 'ALP', 3: 'ALT', 4: 'AST', \n",
    "                  5: 'BIL', 6: 'CHE', 7: 'CHOL', 8: 'CREA', 9: 'GGT', 10: 'PROT', 11: 'M', 12:'F'}, inplace=True)"
   ]
  },
  {
   "cell_type": "code",
   "execution_count": 93,
   "id": "c7b84df4",
   "metadata": {},
   "outputs": [
    {
     "data": {
      "text/html": [
       "<div>\n",
       "<style scoped>\n",
       "    .dataframe tbody tr th:only-of-type {\n",
       "        vertical-align: middle;\n",
       "    }\n",
       "\n",
       "    .dataframe tbody tr th {\n",
       "        vertical-align: top;\n",
       "    }\n",
       "\n",
       "    .dataframe thead th {\n",
       "        text-align: right;\n",
       "    }\n",
       "</style>\n",
       "<table border=\"1\" class=\"dataframe\">\n",
       "  <thead>\n",
       "    <tr style=\"text-align: right;\">\n",
       "      <th></th>\n",
       "      <th>Age</th>\n",
       "      <th>ALB</th>\n",
       "      <th>ALP</th>\n",
       "      <th>ALT</th>\n",
       "      <th>AST</th>\n",
       "      <th>BIL</th>\n",
       "      <th>CHE</th>\n",
       "      <th>CHOL</th>\n",
       "      <th>CREA</th>\n",
       "      <th>GGT</th>\n",
       "      <th>PROT</th>\n",
       "      <th>M</th>\n",
       "      <th>F</th>\n",
       "    </tr>\n",
       "  </thead>\n",
       "  <tbody>\n",
       "    <tr>\n",
       "      <th>0</th>\n",
       "      <td>-1.531488</td>\n",
       "      <td>-0.614892</td>\n",
       "      <td>-0.613672</td>\n",
       "      <td>-0.938676</td>\n",
       "      <td>-0.376413</td>\n",
       "      <td>-0.201172</td>\n",
       "      <td>-0.588422</td>\n",
       "      <td>-1.935993</td>\n",
       "      <td>0.492894</td>\n",
       "      <td>-0.503635</td>\n",
       "      <td>-0.660649</td>\n",
       "      <td>1.0</td>\n",
       "      <td>0.0</td>\n",
       "    </tr>\n",
       "    <tr>\n",
       "      <th>1</th>\n",
       "      <td>-1.531488</td>\n",
       "      <td>-0.614892</td>\n",
       "      <td>0.101811</td>\n",
       "      <td>-0.452676</td>\n",
       "      <td>-0.296648</td>\n",
       "      <td>-0.383411</td>\n",
       "      <td>1.368547</td>\n",
       "      <td>-0.520644</td>\n",
       "      <td>-0.151232</td>\n",
       "      <td>-0.436211</td>\n",
       "      <td>0.862461</td>\n",
       "      <td>1.0</td>\n",
       "      <td>0.0</td>\n",
       "    </tr>\n",
       "    <tr>\n",
       "      <th>2</th>\n",
       "      <td>-1.531488</td>\n",
       "      <td>0.941291</td>\n",
       "      <td>0.278672</td>\n",
       "      <td>0.406081</td>\n",
       "      <td>0.559296</td>\n",
       "      <td>-0.272043</td>\n",
       "      <td>0.293137</td>\n",
       "      <td>-0.160045</td>\n",
       "      <td>0.090315</td>\n",
       "      <td>-0.097166</td>\n",
       "      <td>1.431089</td>\n",
       "      <td>1.0</td>\n",
       "      <td>0.0</td>\n",
       "    </tr>\n",
       "    <tr>\n",
       "      <th>3</th>\n",
       "      <td>-1.531488</td>\n",
       "      <td>0.255829</td>\n",
       "      <td>-0.633770</td>\n",
       "      <td>0.141848</td>\n",
       "      <td>-0.361073</td>\n",
       "      <td>0.375918</td>\n",
       "      <td>-0.403803</td>\n",
       "      <td>-0.574734</td>\n",
       "      <td>-0.030458</td>\n",
       "      <td>-0.085607</td>\n",
       "      <td>0.699996</td>\n",
       "      <td>1.0</td>\n",
       "      <td>0.0</td>\n",
       "    </tr>\n",
       "    <tr>\n",
       "      <th>4</th>\n",
       "      <td>-1.531488</td>\n",
       "      <td>-0.485210</td>\n",
       "      <td>0.254555</td>\n",
       "      <td>0.236217</td>\n",
       "      <td>-0.293580</td>\n",
       "      <td>-0.094866</td>\n",
       "      <td>0.436217</td>\n",
       "      <td>-0.953362</td>\n",
       "      <td>-0.110974</td>\n",
       "      <td>-0.160737</td>\n",
       "      <td>-0.721574</td>\n",
       "      <td>1.0</td>\n",
       "      <td>0.0</td>\n",
       "    </tr>\n",
       "  </tbody>\n",
       "</table>\n",
       "</div>"
      ],
      "text/plain": [
       "        Age       ALB       ALP       ALT       AST       BIL       CHE  \\\n",
       "0 -1.531488 -0.614892 -0.613672 -0.938676 -0.376413 -0.201172 -0.588422   \n",
       "1 -1.531488 -0.614892  0.101811 -0.452676 -0.296648 -0.383411  1.368547   \n",
       "2 -1.531488  0.941291  0.278672  0.406081  0.559296 -0.272043  0.293137   \n",
       "3 -1.531488  0.255829 -0.633770  0.141848 -0.361073  0.375918 -0.403803   \n",
       "4 -1.531488 -0.485210  0.254555  0.236217 -0.293580 -0.094866  0.436217   \n",
       "\n",
       "       CHOL      CREA       GGT      PROT    M    F  \n",
       "0 -1.935993  0.492894 -0.503635 -0.660649  1.0  0.0  \n",
       "1 -0.520644 -0.151232 -0.436211  0.862461  1.0  0.0  \n",
       "2 -0.160045  0.090315 -0.097166  1.431089  1.0  0.0  \n",
       "3 -0.574734 -0.030458 -0.085607  0.699996  1.0  0.0  \n",
       "4 -0.953362 -0.110974 -0.160737 -0.721574  1.0  0.0  "
      ]
     },
     "execution_count": 93,
     "metadata": {},
     "output_type": "execute_result"
    }
   ],
   "source": [
    "X.head()"
   ]
  },
  {
   "cell_type": "code",
   "execution_count": 94,
   "id": "382d675d",
   "metadata": {},
   "outputs": [
    {
     "data": {
      "text/plain": [
       "dtype('int64')"
      ]
     },
     "execution_count": 94,
     "metadata": {},
     "output_type": "execute_result"
    }
   ],
   "source": [
    "y.dtype"
   ]
  },
  {
   "cell_type": "code",
   "execution_count": 95,
   "id": "fdfe206f",
   "metadata": {},
   "outputs": [],
   "source": [
    "df_final = pd.concat([X, y], axis=1)"
   ]
  },
  {
   "cell_type": "code",
   "execution_count": 96,
   "id": "a4487080",
   "metadata": {},
   "outputs": [
    {
     "data": {
      "text/plain": [
       "Age         0\n",
       "ALB         0\n",
       "ALP         0\n",
       "ALT         0\n",
       "AST         0\n",
       "BIL         0\n",
       "CHE         0\n",
       "CHOL        0\n",
       "CREA        0\n",
       "GGT         0\n",
       "PROT        0\n",
       "M           0\n",
       "F           0\n",
       "Category    0\n",
       "dtype: int64"
      ]
     },
     "execution_count": 96,
     "metadata": {},
     "output_type": "execute_result"
    }
   ],
   "source": [
    "df_final.isnull().sum()"
   ]
  },
  {
   "cell_type": "code",
   "execution_count": 97,
   "id": "01fdc05d",
   "metadata": {},
   "outputs": [],
   "source": [
    "df_final['Category'] = df_final['Category'].astype('category')"
   ]
  },
  {
   "cell_type": "code",
   "execution_count": 98,
   "id": "2c712289",
   "metadata": {},
   "outputs": [
    {
     "data": {
      "text/html": [
       "<div>\n",
       "<style scoped>\n",
       "    .dataframe tbody tr th:only-of-type {\n",
       "        vertical-align: middle;\n",
       "    }\n",
       "\n",
       "    .dataframe tbody tr th {\n",
       "        vertical-align: top;\n",
       "    }\n",
       "\n",
       "    .dataframe thead th {\n",
       "        text-align: right;\n",
       "    }\n",
       "</style>\n",
       "<table border=\"1\" class=\"dataframe\">\n",
       "  <thead>\n",
       "    <tr style=\"text-align: right;\">\n",
       "      <th></th>\n",
       "      <th>Age</th>\n",
       "      <th>ALB</th>\n",
       "      <th>ALP</th>\n",
       "      <th>ALT</th>\n",
       "      <th>AST</th>\n",
       "      <th>BIL</th>\n",
       "      <th>CHE</th>\n",
       "      <th>CHOL</th>\n",
       "      <th>CREA</th>\n",
       "      <th>GGT</th>\n",
       "      <th>PROT</th>\n",
       "      <th>M</th>\n",
       "      <th>F</th>\n",
       "      <th>Category</th>\n",
       "    </tr>\n",
       "  </thead>\n",
       "  <tbody>\n",
       "    <tr>\n",
       "      <th>0</th>\n",
       "      <td>-1.531488</td>\n",
       "      <td>-0.614892</td>\n",
       "      <td>-0.613672</td>\n",
       "      <td>-0.938676</td>\n",
       "      <td>-0.376413</td>\n",
       "      <td>-0.201172</td>\n",
       "      <td>-0.588422</td>\n",
       "      <td>-1.935993</td>\n",
       "      <td>0.492894</td>\n",
       "      <td>-0.503635</td>\n",
       "      <td>-0.660649</td>\n",
       "      <td>1.0</td>\n",
       "      <td>0.0</td>\n",
       "      <td>0</td>\n",
       "    </tr>\n",
       "    <tr>\n",
       "      <th>1</th>\n",
       "      <td>-1.531488</td>\n",
       "      <td>-0.614892</td>\n",
       "      <td>0.101811</td>\n",
       "      <td>-0.452676</td>\n",
       "      <td>-0.296648</td>\n",
       "      <td>-0.383411</td>\n",
       "      <td>1.368547</td>\n",
       "      <td>-0.520644</td>\n",
       "      <td>-0.151232</td>\n",
       "      <td>-0.436211</td>\n",
       "      <td>0.862461</td>\n",
       "      <td>1.0</td>\n",
       "      <td>0.0</td>\n",
       "      <td>0</td>\n",
       "    </tr>\n",
       "    <tr>\n",
       "      <th>2</th>\n",
       "      <td>-1.531488</td>\n",
       "      <td>0.941291</td>\n",
       "      <td>0.278672</td>\n",
       "      <td>0.406081</td>\n",
       "      <td>0.559296</td>\n",
       "      <td>-0.272043</td>\n",
       "      <td>0.293137</td>\n",
       "      <td>-0.160045</td>\n",
       "      <td>0.090315</td>\n",
       "      <td>-0.097166</td>\n",
       "      <td>1.431089</td>\n",
       "      <td>1.0</td>\n",
       "      <td>0.0</td>\n",
       "      <td>0</td>\n",
       "    </tr>\n",
       "    <tr>\n",
       "      <th>3</th>\n",
       "      <td>-1.531488</td>\n",
       "      <td>0.255829</td>\n",
       "      <td>-0.633770</td>\n",
       "      <td>0.141848</td>\n",
       "      <td>-0.361073</td>\n",
       "      <td>0.375918</td>\n",
       "      <td>-0.403803</td>\n",
       "      <td>-0.574734</td>\n",
       "      <td>-0.030458</td>\n",
       "      <td>-0.085607</td>\n",
       "      <td>0.699996</td>\n",
       "      <td>1.0</td>\n",
       "      <td>0.0</td>\n",
       "      <td>0</td>\n",
       "    </tr>\n",
       "    <tr>\n",
       "      <th>4</th>\n",
       "      <td>-1.531488</td>\n",
       "      <td>-0.485210</td>\n",
       "      <td>0.254555</td>\n",
       "      <td>0.236217</td>\n",
       "      <td>-0.293580</td>\n",
       "      <td>-0.094866</td>\n",
       "      <td>0.436217</td>\n",
       "      <td>-0.953362</td>\n",
       "      <td>-0.110974</td>\n",
       "      <td>-0.160737</td>\n",
       "      <td>-0.721574</td>\n",
       "      <td>1.0</td>\n",
       "      <td>0.0</td>\n",
       "      <td>0</td>\n",
       "    </tr>\n",
       "  </tbody>\n",
       "</table>\n",
       "</div>"
      ],
      "text/plain": [
       "        Age       ALB       ALP       ALT       AST       BIL       CHE  \\\n",
       "0 -1.531488 -0.614892 -0.613672 -0.938676 -0.376413 -0.201172 -0.588422   \n",
       "1 -1.531488 -0.614892  0.101811 -0.452676 -0.296648 -0.383411  1.368547   \n",
       "2 -1.531488  0.941291  0.278672  0.406081  0.559296 -0.272043  0.293137   \n",
       "3 -1.531488  0.255829 -0.633770  0.141848 -0.361073  0.375918 -0.403803   \n",
       "4 -1.531488 -0.485210  0.254555  0.236217 -0.293580 -0.094866  0.436217   \n",
       "\n",
       "       CHOL      CREA       GGT      PROT    M    F Category  \n",
       "0 -1.935993  0.492894 -0.503635 -0.660649  1.0  0.0        0  \n",
       "1 -0.520644 -0.151232 -0.436211  0.862461  1.0  0.0        0  \n",
       "2 -0.160045  0.090315 -0.097166  1.431089  1.0  0.0        0  \n",
       "3 -0.574734 -0.030458 -0.085607  0.699996  1.0  0.0        0  \n",
       "4 -0.953362 -0.110974 -0.160737 -0.721574  1.0  0.0        0  "
      ]
     },
     "execution_count": 98,
     "metadata": {},
     "output_type": "execute_result"
    }
   ],
   "source": [
    "df_final.head()"
   ]
  },
  {
   "cell_type": "code",
   "execution_count": 99,
   "id": "95903c10",
   "metadata": {},
   "outputs": [
    {
     "name": "stdout",
     "output_type": "stream",
     "text": [
      "<class 'pandas.core.frame.DataFrame'>\n",
      "RangeIndex: 608 entries, 0 to 607\n",
      "Data columns (total 14 columns):\n",
      " #   Column    Non-Null Count  Dtype   \n",
      "---  ------    --------------  -----   \n",
      " 0   Age       608 non-null    float64 \n",
      " 1   ALB       608 non-null    float64 \n",
      " 2   ALP       608 non-null    float64 \n",
      " 3   ALT       608 non-null    float64 \n",
      " 4   AST       608 non-null    float64 \n",
      " 5   BIL       608 non-null    float64 \n",
      " 6   CHE       608 non-null    float64 \n",
      " 7   CHOL      608 non-null    float64 \n",
      " 8   CREA      608 non-null    float64 \n",
      " 9   GGT       608 non-null    float64 \n",
      " 10  PROT      608 non-null    float64 \n",
      " 11  M         608 non-null    float64 \n",
      " 12  F         608 non-null    float64 \n",
      " 13  Category  608 non-null    category\n",
      "dtypes: category(1), float64(13)\n",
      "memory usage: 62.7 KB\n"
     ]
    }
   ],
   "source": [
    "df_final.info()"
   ]
  },
  {
   "cell_type": "markdown",
   "id": "5e389ef1",
   "metadata": {},
   "source": [
    "#### Criando um novo csv limpo"
   ]
  },
  {
   "cell_type": "code",
   "execution_count": 100,
   "id": "09d4bbd3",
   "metadata": {},
   "outputs": [],
   "source": [
    "df_final.to_csv('HCV-Data.csv')"
   ]
  },
  {
   "cell_type": "code",
   "execution_count": null,
   "id": "7658f7cf",
   "metadata": {},
   "outputs": [],
   "source": []
  }
 ],
 "metadata": {
  "kernelspec": {
   "display_name": "Python 3 (ipykernel)",
   "language": "python",
   "name": "python3"
  },
  "language_info": {
   "codemirror_mode": {
    "name": "ipython",
    "version": 3
   },
   "file_extension": ".py",
   "mimetype": "text/x-python",
   "name": "python",
   "nbconvert_exporter": "python",
   "pygments_lexer": "ipython3",
   "version": "3.9.7"
  }
 },
 "nbformat": 4,
 "nbformat_minor": 5
}
